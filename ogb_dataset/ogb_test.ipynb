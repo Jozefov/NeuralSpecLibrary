{
 "cells": [
  {
   "cell_type": "code",
   "execution_count": 1,
   "id": "initial_id",
   "metadata": {
    "collapsed": true,
    "ExecuteTime": {
     "end_time": "2023-11-30T12:23:31.776426112Z",
     "start_time": "2023-11-30T12:23:26.427113393Z"
    }
   },
   "outputs": [],
   "source": [
    "import numpy as np\n",
    "from ogb.lsc import PCQM4Mv2Dataset\n",
    "import preprocessing.graph_preprocessing as gp\n",
    "import pickle\n",
    "import os"
   ]
  },
  {
   "cell_type": "code",
   "execution_count": 2,
   "outputs": [],
   "source": [
    "dataset = PCQM4Mv2Dataset(root = \"/home/michpir/Documents/PROJECTS\", only_smiles = True)"
   ],
   "metadata": {
    "collapsed": false,
    "ExecuteTime": {
     "end_time": "2023-11-30T12:23:35.985432882Z",
     "start_time": "2023-11-30T12:23:31.777869025Z"
    }
   },
   "id": "bb2a12c3167b111c"
  },
  {
   "cell_type": "code",
   "execution_count": 4,
   "outputs": [],
   "source": [
    "split_dict = dataset.get_idx_split()\n",
    "train_idx = split_dict['train'] # numpy array storing indices of training molecules\n",
    "valid_idx = split_dict['valid'] # numpy array storing indices of validation molecules\n",
    "testdev_idx = split_dict['test-dev'] # numpy array storing indices of test-dev molecules\n",
    "testchallenge_idx = split_dict['test-challenge'] # numpy array storing indices of test-challenge molecules"
   ],
   "metadata": {
    "collapsed": false,
    "ExecuteTime": {
     "end_time": "2023-11-30T12:23:44.818453257Z",
     "start_time": "2023-11-30T12:23:44.583897546Z"
    }
   },
   "id": "223ffcf8c9ba4c5"
  },
  {
   "cell_type": "code",
   "execution_count": 7,
   "outputs": [],
   "source": [
    "train_dataset = []\n",
    "for index in train_idx:\n",
    "    train_dataset.append(dataset[index])\n"
   ],
   "metadata": {
    "collapsed": false,
    "ExecuteTime": {
     "end_time": "2023-11-19T20:09:30.482127798Z",
     "start_time": "2023-11-19T20:09:28.125988775Z"
    }
   },
   "id": "6f5f7b4440806162"
  },
  {
   "cell_type": "code",
   "execution_count": null,
   "outputs": [
    {
     "name": "stderr",
     "output_type": "stream",
     "text": [
      "/home/michpir/Documents/PROJECTS/NeuralSpecLibrary/preprocessing/preprocessing_utils.py:41: UserWarning: Number of group is greater than one hot dimension representation\n",
      "  warnings.warn(\"Number of group is greater than one hot dimension representation\")\n",
      "[23:56:40] WARNING: not removing hydrogen atom without neighbors\n",
      "[23:56:40] WARNING: not removing hydrogen atom without neighbors\n",
      "[23:56:40] WARNING: not removing hydrogen atom without neighbors\n"
     ]
    }
   ],
   "source": [
    "data_list_train = gp.create_graph_data(train_dataset, np.Inf, np.Inf, np.Inf, input_source=\"homo-lumo\")"
   ],
   "metadata": {
    "collapsed": false,
    "is_executing": true,
    "ExecuteTime": {
     "start_time": "2023-11-19T20:09:30.481819460Z"
    }
   },
   "id": "3985e0d1ee7f84e3"
  },
  {
   "cell_type": "code",
   "execution_count": null,
   "outputs": [],
   "source": [
    "PREPROCESSED_FILE = \"/home/michpir/Documents/PROJECTS/dataset/train_homo_lumo_graph_pow.output\"\n",
    "with open(PREPROCESSED_FILE, 'wb') as fid:\n",
    "  pickle.dump(data_list_train, fid)\n",
    "  fid.close() "
   ],
   "metadata": {
    "collapsed": false,
    "is_executing": true
   },
   "id": "17bcc648e276bd36"
  },
  {
   "cell_type": "code",
   "execution_count": null,
   "outputs": [],
   "source": [],
   "metadata": {
    "collapsed": false
   },
   "id": "f9c7b32f31e3505e"
  },
  {
   "cell_type": "code",
   "execution_count": 7,
   "outputs": [
    {
     "name": "stdout",
     "output_type": "stream",
     "text": [
      "Processed chunk 0-50000\n",
      "Processed chunk 50000-100000\n",
      "Processed chunk 100000-147432\n"
     ]
    }
   ],
   "source": [
    "\n",
    "\n",
    "def process_and_save_chunk(chunk, file_name):\n",
    "    # Convert the chunk of data to graph representations\n",
    "    data_list = gp.create_graph_data(chunk, np.Inf, np.Inf, np.Inf, input_source=\"homo-lumo\")\n",
    "    \n",
    "    # Append the processed chunk to the file\n",
    "    with open(file_name, 'ab') as fid:\n",
    "        pickle.dump(data_list, fid)\n",
    "\n",
    "# Define the size of each chunk\n",
    "chunk_size = 50000  # Adjust this based on your memory capacity\n",
    "\n",
    "# File to save processed data\n",
    "PREPROCESSED_FILE = \"/home/michpir/Documents/PROJECTS/dataset/test_homo_lumo_graph_pow.output\"\n",
    "\n",
    "# Ensure the output file is empty initially\n",
    "open(PREPROCESSED_FILE, 'wb').close()\n",
    "\n",
    "# Process the dataset in chunks\n",
    "for start_idx in range(0, len(testchallenge_idx), chunk_size):\n",
    "    end_idx = min(start_idx + chunk_size, len(testchallenge_idx))\n",
    "    train_chunk = [dataset[idx] for idx in train_idx[start_idx:end_idx]]\n",
    "    process_and_save_chunk(train_chunk, PREPROCESSED_FILE)\n",
    "\n",
    "    print(f\"Processed chunk {start_idx}-{end_idx}\")\n"
   ],
   "metadata": {
    "collapsed": false,
    "ExecuteTime": {
     "end_time": "2023-11-30T14:56:39.212161148Z",
     "start_time": "2023-11-30T14:39:55.873658109Z"
    }
   },
   "id": "db62c975103719f1"
  },
  {
   "cell_type": "code",
   "execution_count": 11,
   "outputs": [
    {
     "name": "stdout",
     "output_type": "stream",
     "text": [
      "hello\n"
     ]
    }
   ],
   "source": [
    "print(\"hello\")"
   ],
   "metadata": {
    "collapsed": false,
    "ExecuteTime": {
     "end_time": "2023-11-20T11:06:52.440407918Z",
     "start_time": "2023-11-20T11:06:52.438514436Z"
    }
   },
   "id": "517052b46f388620"
  },
  {
   "cell_type": "code",
   "execution_count": null,
   "outputs": [],
   "source": [],
   "metadata": {
    "collapsed": false
   },
   "id": "ac62528628e74430"
  }
 ],
 "metadata": {
  "kernelspec": {
   "display_name": "Python 3",
   "language": "python",
   "name": "python3"
  },
  "language_info": {
   "codemirror_mode": {
    "name": "ipython",
    "version": 2
   },
   "file_extension": ".py",
   "mimetype": "text/x-python",
   "name": "python",
   "nbconvert_exporter": "python",
   "pygments_lexer": "ipython2",
   "version": "2.7.6"
  }
 },
 "nbformat": 4,
 "nbformat_minor": 5
}

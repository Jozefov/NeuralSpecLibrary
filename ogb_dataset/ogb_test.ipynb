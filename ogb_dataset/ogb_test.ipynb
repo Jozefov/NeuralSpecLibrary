{
 "cells": [
  {
   "cell_type": "code",
   "execution_count": 7,
   "id": "initial_id",
   "metadata": {
    "collapsed": true,
    "ExecuteTime": {
     "end_time": "2023-11-20T05:42:25.225968772Z",
     "start_time": "2023-11-20T05:42:25.185258380Z"
    }
   },
   "outputs": [],
   "source": [
    "import numpy as np\n",
    "from ogb.lsc import PCQM4Mv2Dataset\n",
    "import preprocessing.graph_preprocessing as gp\n",
    "import pickle\n",
    "import os"
   ]
  },
  {
   "cell_type": "code",
   "execution_count": 8,
   "outputs": [],
   "source": [
    "dataset = PCQM4Mv2Dataset(root = \"/home/michpir/Documents/PROJECTS\", only_smiles = True)"
   ],
   "metadata": {
    "collapsed": false,
    "ExecuteTime": {
     "end_time": "2023-11-20T05:42:29.258547510Z",
     "start_time": "2023-11-20T05:42:25.561800335Z"
    }
   },
   "id": "bb2a12c3167b111c"
  },
  {
   "cell_type": "code",
   "execution_count": 5,
   "outputs": [
    {
     "name": "stdout",
     "output_type": "stream",
     "text": [
      "('CC(NCC[C@H]([C@@H]1CCC(=CC1)C)C)C', 6.811009678015001)\n"
     ]
    }
   ],
   "source": [
    "i = 1234\n",
    "print(dataset[i])"
   ],
   "metadata": {
    "collapsed": false,
    "ExecuteTime": {
     "end_time": "2023-11-19T15:54:47.448508495Z",
     "start_time": "2023-11-19T15:54:47.422908755Z"
    }
   },
   "id": "e50cb942a9770e34"
  },
  {
   "cell_type": "code",
   "execution_count": 9,
   "outputs": [
    {
     "name": "stdout",
     "output_type": "stream",
     "text": [
      "PCQM4Mv2Dataset(3746620)\n"
     ]
    }
   ],
   "source": [
    "print(dataset)"
   ],
   "metadata": {
    "collapsed": false,
    "ExecuteTime": {
     "end_time": "2023-11-19T16:06:30.120374582Z",
     "start_time": "2023-11-19T16:06:30.104879014Z"
    }
   },
   "id": "628780e144ce7182"
  },
  {
   "cell_type": "code",
   "execution_count": 15,
   "outputs": [],
   "source": [
    "i = 0\n",
    "max_value = 0\n",
    "for j,tmp in enumerate(dataset):\n",
    "    if tmp[1] < max_value:\n",
    "        max_value = tmp[1]\n",
    "        i = j\n"
   ],
   "metadata": {
    "collapsed": false,
    "ExecuteTime": {
     "end_time": "2023-11-19T16:34:50.409887765Z",
     "start_time": "2023-11-19T16:34:48.386745719Z"
    }
   },
   "id": "6aaa79a1480d3d2d"
  },
  {
   "cell_type": "code",
   "execution_count": 16,
   "outputs": [
    {
     "data": {
      "text/plain": "0"
     },
     "execution_count": 16,
     "metadata": {},
     "output_type": "execute_result"
    }
   ],
   "source": [
    "max_value"
   ],
   "metadata": {
    "collapsed": false,
    "ExecuteTime": {
     "end_time": "2023-11-19T16:34:51.923992899Z",
     "start_time": "2023-11-19T16:34:51.856694740Z"
    }
   },
   "id": "419250cf260a572c"
  },
  {
   "cell_type": "code",
   "execution_count": 9,
   "outputs": [],
   "source": [
    "split_dict = dataset.get_idx_split()\n",
    "train_idx = split_dict['train'] # numpy array storing indices of training molecules\n",
    "valid_idx = split_dict['valid'] # numpy array storing indices of validation molecules\n",
    "testdev_idx = split_dict['test-dev'] # numpy array storing indices of test-dev molecules\n",
    "testchallenge_idx = split_dict['test-challenge'] # numpy array storing indices of test-challenge molecules"
   ],
   "metadata": {
    "collapsed": false,
    "ExecuteTime": {
     "end_time": "2023-11-20T05:42:30.426680429Z",
     "start_time": "2023-11-20T05:42:30.377683851Z"
    }
   },
   "id": "223ffcf8c9ba4c5"
  },
  {
   "cell_type": "code",
   "execution_count": 18,
   "outputs": [
    {
     "data": {
      "text/plain": "array([      0,       1,       2, ..., 3378603, 3378604, 3378605])"
     },
     "execution_count": 18,
     "metadata": {},
     "output_type": "execute_result"
    }
   ],
   "source": [
    "train_idx"
   ],
   "metadata": {
    "collapsed": false,
    "ExecuteTime": {
     "end_time": "2023-11-19T17:07:59.118860232Z",
     "start_time": "2023-11-19T17:07:58.978711079Z"
    }
   },
   "id": "6645f7c96a95532f"
  },
  {
   "cell_type": "code",
   "execution_count": 19,
   "outputs": [
    {
     "data": {
      "text/plain": "3746620"
     },
     "execution_count": 19,
     "metadata": {},
     "output_type": "execute_result"
    }
   ],
   "source": [
    "len(dataset)"
   ],
   "metadata": {
    "collapsed": false,
    "ExecuteTime": {
     "end_time": "2023-11-19T17:08:16.341878886Z",
     "start_time": "2023-11-19T17:08:16.208452614Z"
    }
   },
   "id": "17573bacb0475269"
  },
  {
   "cell_type": "code",
   "execution_count": 20,
   "outputs": [
    {
     "ename": "IndexError",
     "evalue": "Only integer is valid index (got ndarray).",
     "output_type": "error",
     "traceback": [
      "\u001B[0;31m---------------------------------------------------------------------------\u001B[0m",
      "\u001B[0;31mIndexError\u001B[0m                                Traceback (most recent call last)",
      "Cell \u001B[0;32mIn[20], line 1\u001B[0m\n\u001B[0;32m----> 1\u001B[0m \u001B[43mdataset\u001B[49m\u001B[43m[\u001B[49m\u001B[43mtrain_idx\u001B[49m\u001B[43m]\u001B[49m\n",
      "File \u001B[0;32m~/Documents/PROJECTS/NeuralSpecLibrary/venv/lib/python3.10/site-packages/ogb/lsc/pcqm4mv2.py:134\u001B[0m, in \u001B[0;36mPCQM4Mv2Dataset.__getitem__\u001B[0;34m(self, idx)\u001B[0m\n\u001B[1;32m    131\u001B[0m \u001B[38;5;28;01mif\u001B[39;00m \u001B[38;5;28misinstance\u001B[39m(idx, (\u001B[38;5;28mint\u001B[39m, np\u001B[38;5;241m.\u001B[39minteger)):\n\u001B[1;32m    132\u001B[0m     \u001B[38;5;28;01mreturn\u001B[39;00m \u001B[38;5;28mself\u001B[39m\u001B[38;5;241m.\u001B[39mgraphs[idx], \u001B[38;5;28mself\u001B[39m\u001B[38;5;241m.\u001B[39mlabels[idx]\n\u001B[0;32m--> 134\u001B[0m \u001B[38;5;28;01mraise\u001B[39;00m \u001B[38;5;167;01mIndexError\u001B[39;00m(\n\u001B[1;32m    135\u001B[0m     \u001B[38;5;124m'\u001B[39m\u001B[38;5;124mOnly integer is valid index (got \u001B[39m\u001B[38;5;132;01m{}\u001B[39;00m\u001B[38;5;124m).\u001B[39m\u001B[38;5;124m'\u001B[39m\u001B[38;5;241m.\u001B[39mformat(\u001B[38;5;28mtype\u001B[39m(idx)\u001B[38;5;241m.\u001B[39m\u001B[38;5;18m__name__\u001B[39m))\n",
      "\u001B[0;31mIndexError\u001B[0m: Only integer is valid index (got ndarray)."
     ]
    }
   ],
   "source": [
    "dataset[train_idx]"
   ],
   "metadata": {
    "collapsed": false,
    "ExecuteTime": {
     "end_time": "2023-11-19T17:08:46.510624474Z",
     "start_time": "2023-11-19T17:08:46.313377956Z"
    }
   },
   "id": "70c702b0e1866280"
  },
  {
   "cell_type": "code",
   "execution_count": 7,
   "outputs": [],
   "source": [
    "train_dataset = []\n",
    "for index in train_idx:\n",
    "    train_dataset.append(dataset[index])\n"
   ],
   "metadata": {
    "collapsed": false,
    "ExecuteTime": {
     "end_time": "2023-11-19T20:09:30.482127798Z",
     "start_time": "2023-11-19T20:09:28.125988775Z"
    }
   },
   "id": "6f5f7b4440806162"
  },
  {
   "cell_type": "code",
   "execution_count": null,
   "outputs": [
    {
     "name": "stderr",
     "output_type": "stream",
     "text": [
      "/home/michpir/Documents/PROJECTS/NeuralSpecLibrary/preprocessing/preprocessing_utils.py:41: UserWarning: Number of group is greater than one hot dimension representation\n",
      "  warnings.warn(\"Number of group is greater than one hot dimension representation\")\n",
      "[23:56:40] WARNING: not removing hydrogen atom without neighbors\n",
      "[23:56:40] WARNING: not removing hydrogen atom without neighbors\n",
      "[23:56:40] WARNING: not removing hydrogen atom without neighbors\n"
     ]
    }
   ],
   "source": [
    "data_list_train = gp.create_graph_data(train_dataset, np.Inf, np.Inf, np.Inf, input_source=\"homo-lumo\")"
   ],
   "metadata": {
    "collapsed": false,
    "is_executing": true,
    "ExecuteTime": {
     "start_time": "2023-11-19T20:09:30.481819460Z"
    }
   },
   "id": "3985e0d1ee7f84e3"
  },
  {
   "cell_type": "code",
   "execution_count": null,
   "outputs": [],
   "source": [
    "PREPROCESSED_FILE = \"/home/michpir/Documents/PROJECTS/dataset/train_homo_lumo_graph_pow.output\"\n",
    "with open(PREPROCESSED_FILE, 'wb') as fid:\n",
    "  pickle.dump(data_list_train, fid)\n",
    "  fid.close() "
   ],
   "metadata": {
    "collapsed": false,
    "is_executing": true
   },
   "id": "17bcc648e276bd36"
  },
  {
   "cell_type": "code",
   "execution_count": null,
   "outputs": [],
   "source": [],
   "metadata": {
    "collapsed": false
   },
   "id": "f9c7b32f31e3505e"
  },
  {
   "cell_type": "code",
   "execution_count": 10,
   "outputs": [
    {
     "name": "stderr",
     "output_type": "stream",
     "text": [
      "/home/michpir/Documents/PROJECTS/NeuralSpecLibrary/preprocessing/preprocessing_utils.py:41: UserWarning: Number of group is greater than one hot dimension representation\n",
      "  warnings.warn(\"Number of group is greater than one hot dimension representation\")\n"
     ]
    },
    {
     "name": "stdout",
     "output_type": "stream",
     "text": [
      "Processed chunk 0-50000\n",
      "Processed chunk 50000-100000\n",
      "Processed chunk 100000-150000\n",
      "Processed chunk 150000-200000\n",
      "Processed chunk 200000-250000\n",
      "Processed chunk 250000-300000\n",
      "Processed chunk 300000-350000\n",
      "Processed chunk 350000-400000\n",
      "Processed chunk 400000-450000\n",
      "Processed chunk 450000-500000\n",
      "Processed chunk 500000-550000\n",
      "Processed chunk 550000-600000\n",
      "Processed chunk 600000-650000\n",
      "Processed chunk 650000-700000\n",
      "Processed chunk 700000-750000\n",
      "Processed chunk 750000-800000\n",
      "Processed chunk 800000-850000\n",
      "Processed chunk 850000-900000\n",
      "Processed chunk 900000-950000\n",
      "Processed chunk 950000-1000000\n",
      "Processed chunk 1000000-1050000\n",
      "Processed chunk 1050000-1100000\n",
      "Processed chunk 1100000-1150000\n",
      "Processed chunk 1150000-1200000\n",
      "Processed chunk 1200000-1250000\n",
      "Processed chunk 1250000-1300000\n",
      "Processed chunk 1300000-1350000\n",
      "Processed chunk 1350000-1400000\n",
      "Processed chunk 1400000-1450000\n",
      "Processed chunk 1450000-1500000\n",
      "Processed chunk 1500000-1550000\n",
      "Processed chunk 1550000-1600000\n",
      "Processed chunk 1600000-1650000\n"
     ]
    },
    {
     "name": "stderr",
     "output_type": "stream",
     "text": [
      "[09:23:29] WARNING: not removing hydrogen atom without neighbors\n",
      "[09:23:29] WARNING: not removing hydrogen atom without neighbors\n",
      "[09:23:29] WARNING: not removing hydrogen atom without neighbors\n"
     ]
    },
    {
     "name": "stdout",
     "output_type": "stream",
     "text": [
      "Processed chunk 1650000-1700000\n",
      "Processed chunk 1700000-1750000\n"
     ]
    },
    {
     "name": "stderr",
     "output_type": "stream",
     "text": [
      "[09:33:27] WARNING: not removing hydrogen atom without neighbors\n",
      "[09:33:27] WARNING: not removing hydrogen atom without neighbors\n"
     ]
    },
    {
     "name": "stdout",
     "output_type": "stream",
     "text": [
      "Processed chunk 1750000-1800000\n",
      "Processed chunk 1800000-1850000\n"
     ]
    },
    {
     "name": "stderr",
     "output_type": "stream",
     "text": [
      "[09:45:14] WARNING: not removing hydrogen atom without neighbors\n",
      "[09:45:14] WARNING: not removing hydrogen atom without neighbors\n",
      "[09:45:14] WARNING: not removing hydrogen atom without neighbors\n"
     ]
    },
    {
     "name": "stdout",
     "output_type": "stream",
     "text": [
      "Processed chunk 1850000-1900000\n"
     ]
    },
    {
     "name": "stderr",
     "output_type": "stream",
     "text": [
      "[09:47:41] Conflicting single bond directions around double bond at index 13.\n",
      "[09:47:41]   BondStereo set to STEREONONE and single bond directions set to NONE.\n"
     ]
    },
    {
     "name": "stdout",
     "output_type": "stream",
     "text": [
      "Processed chunk 1900000-1950000\n",
      "Processed chunk 1950000-2000000\n"
     ]
    },
    {
     "name": "stderr",
     "output_type": "stream",
     "text": [
      "[09:59:17] Conflicting single bond directions around double bond at index 11.\n",
      "[09:59:17]   BondStereo set to STEREONONE and single bond directions set to NONE.\n"
     ]
    },
    {
     "name": "stdout",
     "output_type": "stream",
     "text": [
      "Processed chunk 2000000-2050000\n",
      "Processed chunk 2050000-2100000\n",
      "Processed chunk 2100000-2150000\n",
      "Processed chunk 2150000-2200000\n",
      "Processed chunk 2200000-2250000\n",
      "Processed chunk 2250000-2300000\n",
      "Processed chunk 2300000-2350000\n",
      "Processed chunk 2350000-2400000\n",
      "Processed chunk 2400000-2450000\n",
      "Processed chunk 2450000-2500000\n",
      "Processed chunk 2500000-2550000\n",
      "Processed chunk 2550000-2600000\n",
      "Processed chunk 2600000-2650000\n",
      "Processed chunk 2650000-2700000\n",
      "Processed chunk 2700000-2750000\n",
      "Processed chunk 2750000-2800000\n",
      "Processed chunk 2800000-2850000\n",
      "Processed chunk 2850000-2900000\n",
      "Processed chunk 2900000-2950000\n",
      "Processed chunk 2950000-3000000\n",
      "Processed chunk 3000000-3050000\n",
      "Processed chunk 3050000-3100000\n",
      "Processed chunk 3100000-3150000\n",
      "Processed chunk 3150000-3200000\n",
      "Processed chunk 3200000-3250000\n",
      "Processed chunk 3250000-3300000\n",
      "Processed chunk 3300000-3350000\n",
      "Processed chunk 3350000-3378606\n"
     ]
    }
   ],
   "source": [
    "\n",
    "\n",
    "def process_and_save_chunk(chunk, file_name):\n",
    "    # Convert the chunk of data to graph representations\n",
    "    data_list = gp.create_graph_data(chunk, np.Inf, np.Inf, np.Inf, input_source=\"homo-lumo\")\n",
    "    \n",
    "    # Append the processed chunk to the file\n",
    "    with open(file_name, 'ab') as fid:\n",
    "        pickle.dump(data_list, fid)\n",
    "\n",
    "# Define the size of each chunk\n",
    "chunk_size = 50000  # Adjust this based on your memory capacity\n",
    "\n",
    "# File to save processed data\n",
    "PREPROCESSED_FILE = \"/home/michpir/Documents/PROJECTS/dataset/train_homo_lumo_graph_pow.output\"\n",
    "\n",
    "# Ensure the output file is empty initially\n",
    "open(PREPROCESSED_FILE, 'wb').close()\n",
    "\n",
    "# Process the dataset in chunks\n",
    "for start_idx in range(0, len(train_idx), chunk_size):\n",
    "    end_idx = min(start_idx + chunk_size, len(train_idx))\n",
    "    train_chunk = [dataset[idx] for idx in train_idx[start_idx:end_idx]]\n",
    "    process_and_save_chunk(train_chunk, PREPROCESSED_FILE)\n",
    "\n",
    "    print(f\"Processed chunk {start_idx}-{end_idx}\")\n"
   ],
   "metadata": {
    "collapsed": false,
    "ExecuteTime": {
     "end_time": "2023-11-20T11:06:52.431914447Z",
     "start_time": "2023-11-20T05:42:37.580191113Z"
    }
   },
   "id": "db62c975103719f1"
  },
  {
   "cell_type": "code",
   "execution_count": 11,
   "outputs": [
    {
     "name": "stdout",
     "output_type": "stream",
     "text": [
      "hello\n"
     ]
    }
   ],
   "source": [
    "print(\"hello\")"
   ],
   "metadata": {
    "collapsed": false,
    "ExecuteTime": {
     "end_time": "2023-11-20T11:06:52.440407918Z",
     "start_time": "2023-11-20T11:06:52.438514436Z"
    }
   },
   "id": "517052b46f388620"
  },
  {
   "cell_type": "code",
   "execution_count": null,
   "outputs": [],
   "source": [],
   "metadata": {
    "collapsed": false
   },
   "id": "ac62528628e74430"
  }
 ],
 "metadata": {
  "kernelspec": {
   "display_name": "Python 3",
   "language": "python",
   "name": "python3"
  },
  "language_info": {
   "codemirror_mode": {
    "name": "ipython",
    "version": 2
   },
   "file_extension": ".py",
   "mimetype": "text/x-python",
   "name": "python",
   "nbconvert_exporter": "python",
   "pygments_lexer": "ipython2",
   "version": "2.7.6"
  }
 },
 "nbformat": 4,
 "nbformat_minor": 5
}

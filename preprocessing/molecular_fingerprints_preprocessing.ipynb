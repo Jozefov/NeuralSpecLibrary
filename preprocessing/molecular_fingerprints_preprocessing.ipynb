{
 "cells": [
  {
   "cell_type": "code",
   "execution_count": 1,
   "id": "initial_id",
   "metadata": {
    "collapsed": true,
    "ExecuteTime": {
     "end_time": "2023-11-15T15:51:51.116707216Z",
     "start_time": "2023-11-15T15:51:43.889137472Z"
    }
   },
   "outputs": [
    {
     "name": "stderr",
     "output_type": "stream",
     "text": [
      "/home/michpir/Documents/PROJECTS/NeuralSpecLibrary/venv/lib/python3.10/site-packages/torch/nn/_reduction.py:42: UserWarning: size_average and reduce args will be deprecated, please use reduction='mean' instead.\n",
      "  warnings.warn(warning.format(ret))\n",
      "/home/michpir/Documents/PROJECTS/NeuralSpecLibrary/venv/lib/python3.10/site-packages/torch/nn/utils/weight_norm.py:30: UserWarning: torch.nn.utils.weight_norm is deprecated in favor of torch.nn.utils.parametrizations.weight_norm.\n",
      "  warnings.warn(\"torch.nn.utils.weight_norm is deprecated in favor of torch.nn.utils.parametrizations.weight_norm.\")\n"
     ]
    }
   ],
   "source": [
    "import pandas as pd\n",
    "import molecular_fingerprints_preprocessing as mfp\n",
    "import config_model\n",
    "import pickle\n",
    "from torch_geometric.data import DataLoader\n"
   ]
  },
  {
   "cell_type": "markdown",
   "source": [
    "As input "
   ],
   "metadata": {
    "collapsed": false
   },
   "id": "b8d70504e1b16d1c"
  },
  {
   "cell_type": "code",
   "execution_count": 2,
   "outputs": [],
   "source": [
    "nist_dataset_org_test = pd.read_parquet('/home/michpir/Documents/PROJECTS/dataset/smalltest.pq', engine='auto', columns=['rdmol', 'spect', 'smiles'])\n",
    "nist_dataset_org_train = pd.read_parquet('/home/michpir/Documents/PROJECTS/dataset/smalltrain.pq', engine='auto', columns=['rdmol', 'spect', 'smiles'])"
   ],
   "metadata": {
    "collapsed": false,
    "ExecuteTime": {
     "end_time": "2023-11-15T15:51:56.065269713Z",
     "start_time": "2023-11-15T15:51:51.116419474Z"
    }
   },
   "id": "6ba87186448f1401"
  },
  {
   "cell_type": "code",
   "execution_count": 3,
   "outputs": [
    {
     "name": "stderr",
     "output_type": "stream",
     "text": [
      "[16:52:02] WARNING: not removing hydrogen atom without neighbors\n",
      "[16:52:02] WARNING: not removing hydrogen atom without neighbors\n",
      "[16:52:12] WARNING: not removing hydrogen atom without neighbors\n",
      "[16:52:12] WARNING: not removing hydrogen atom without neighbors\n",
      "[16:53:05] WARNING: not removing hydrogen atom without neighbors\n",
      "[16:53:05] WARNING: not removing hydrogen atom without neighbors\n"
     ]
    }
   ],
   "source": [
    "test_preprocessed = mfp.create_ecfp_dataset_parquet(nist_dataset_org_test, config_model.neims_model)"
   ],
   "metadata": {
    "collapsed": false,
    "ExecuteTime": {
     "end_time": "2023-11-15T15:53:30.675570191Z",
     "start_time": "2023-11-15T15:51:56.075522435Z"
    }
   },
   "id": "b0ddeaa93886f065"
  },
  {
   "cell_type": "code",
   "execution_count": 4,
   "outputs": [
    {
     "name": "stderr",
     "output_type": "stream",
     "text": [
      "[16:54:04] WARNING: not removing hydrogen atom without neighbors\n",
      "[16:54:04] WARNING: not removing hydrogen atom without neighbors\n",
      "[16:54:05] WARNING: not removing hydrogen atom without neighbors\n",
      "[16:54:05] WARNING: not removing hydrogen atom without neighbors\n",
      "[16:54:35] WARNING: not removing hydrogen atom without neighbors\n",
      "[16:54:35] WARNING: not removing hydrogen atom without neighbors\n",
      "[16:54:46] WARNING: not removing hydrogen atom without neighbors\n",
      "[16:54:46] WARNING: not removing hydrogen atom without neighbors\n",
      "[16:54:52] WARNING: not removing hydrogen atom without neighbors\n",
      "[16:54:52] WARNING: not removing hydrogen atom without neighbors\n",
      "[16:55:16] WARNING: not removing hydrogen atom without neighbors\n",
      "[16:55:16] WARNING: not removing hydrogen atom without neighbors\n",
      "[16:55:18] WARNING: not removing hydrogen atom without neighbors\n",
      "[16:55:18] WARNING: not removing hydrogen atom without neighbors\n",
      "[16:55:24] WARNING: not removing hydrogen atom without neighbors\n",
      "[16:55:24] WARNING: not removing hydrogen atom without neighbors\n",
      "[16:55:54] WARNING: not removing hydrogen atom without neighbors\n",
      "[16:55:54] WARNING: not removing hydrogen atom without neighbors\n",
      "[16:56:01] WARNING: not removing hydrogen atom without neighbors\n",
      "[16:56:01] WARNING: not removing hydrogen atom without neighbors\n",
      "[16:56:36] WARNING: not removing hydrogen atom without neighbors\n",
      "[16:56:36] WARNING: not removing hydrogen atom without neighbors\n",
      "[16:59:20] WARNING: not removing hydrogen atom without neighbors\n",
      "[16:59:20] WARNING: not removing hydrogen atom without neighbors\n",
      "[16:59:35] WARNING: not removing hydrogen atom without neighbors\n",
      "[16:59:35] WARNING: not removing hydrogen atom without neighbors\n",
      "[16:59:50] WARNING: not removing hydrogen atom without neighbors\n",
      "[16:59:50] WARNING: not removing hydrogen atom without neighbors\n",
      "[16:59:56] WARNING: not removing hydrogen atom without neighbors\n",
      "[16:59:56] WARNING: not removing hydrogen atom without neighbors\n",
      "[16:59:58] WARNING: not removing hydrogen atom without neighbors\n",
      "[16:59:58] WARNING: not removing hydrogen atom without neighbors\n"
     ]
    }
   ],
   "source": [
    "train_preprocessed = mfp.create_ecfp_dataset_parquet(nist_dataset_org_train, config_model.neims_model)"
   ],
   "metadata": {
    "collapsed": false,
    "ExecuteTime": {
     "end_time": "2023-11-15T16:00:07.762329299Z",
     "start_time": "2023-11-15T15:53:30.715765841Z"
    }
   },
   "id": "b897aa5d1ca9f22c"
  },
  {
   "cell_type": "code",
   "execution_count": 5,
   "outputs": [],
   "source": [
    "test_dataset = mfp.FingerprintDataset(test_preprocessed)\n",
    "train_dataset = mfp.FingerprintDataset(train_preprocessed)"
   ],
   "metadata": {
    "collapsed": false,
    "ExecuteTime": {
     "end_time": "2023-11-15T16:00:07.779244496Z",
     "start_time": "2023-11-15T16:00:07.777746488Z"
    }
   },
   "id": "a867b17026bd1c06"
  },
  {
   "cell_type": "code",
   "execution_count": 6,
   "outputs": [],
   "source": [
    "with open('/home/michpir/Documents/PROJECTS/dataset' + '/test_small_ecfp_pow.pkl', 'wb') as f:\n",
    "    pickle.dump(test_dataset , f)\n",
    "    f.close()\n",
    "    \n",
    "with open('/home/michpir/Documents/PROJECTS/dataset' + '/train_small_ecfp_pow.pkl', 'wb') as f:\n",
    "    pickle.dump(train_dataset, f)\n",
    "    f.close()\n"
   ],
   "metadata": {
    "collapsed": false,
    "ExecuteTime": {
     "end_time": "2023-11-15T16:01:38.895175880Z",
     "start_time": "2023-11-15T16:00:07.783955630Z"
    }
   },
   "id": "14a62711d58a3a9c"
  },
  {
   "cell_type": "code",
   "execution_count": 5,
   "outputs": [],
   "source": [
    "with open('/home/michpir/Documents/PROJECTS/dataset' + '/test_small_ecfp_pow.pkl', 'rb') as handle:\n",
    "    validation_dataset  = pickle.load(handle)"
   ],
   "metadata": {
    "collapsed": false,
    "ExecuteTime": {
     "end_time": "2023-11-15T13:21:37.859786362Z",
     "start_time": "2023-11-15T13:21:30.016271684Z"
    }
   },
   "id": "284028e37397aea3"
  },
  {
   "cell_type": "code",
   "execution_count": 5,
   "outputs": [],
   "source": [],
   "metadata": {
    "collapsed": false,
    "ExecuteTime": {
     "end_time": "2023-11-15T13:21:37.883879492Z",
     "start_time": "2023-11-15T13:21:37.862756976Z"
    }
   },
   "id": "2a5e26b6ea6654e"
  },
  {
   "cell_type": "code",
   "execution_count": 6,
   "outputs": [
    {
     "data": {
      "text/plain": "<molecular_fingerprints_preprocessing.FingerprintDataset at 0x7fbcaebea560>"
     },
     "execution_count": 6,
     "metadata": {},
     "output_type": "execute_result"
    }
   ],
   "source": [
    "validation_dataset"
   ],
   "metadata": {
    "collapsed": false,
    "ExecuteTime": {
     "end_time": "2023-11-15T13:21:37.884411720Z",
     "start_time": "2023-11-15T13:21:37.869112627Z"
    }
   },
   "id": "71a429c2fb018fd6"
  },
  {
   "cell_type": "code",
   "execution_count": 6,
   "outputs": [],
   "source": [],
   "metadata": {
    "collapsed": false,
    "ExecuteTime": {
     "end_time": "2023-11-15T13:21:37.884779882Z",
     "start_time": "2023-11-15T13:21:37.876380648Z"
    }
   },
   "id": "daafcbd9362479c"
  },
  {
   "cell_type": "code",
   "execution_count": 9,
   "outputs": [],
   "source": [
    "from torch.utils.data import Subset\n",
    "import random\n",
    "def create_subset_indices(dataset, num_instances):\n",
    "    return random.sample(range(len(dataset)), min(len(dataset), num_instances))"
   ],
   "metadata": {
    "collapsed": false,
    "ExecuteTime": {
     "end_time": "2023-11-15T13:22:17.651612021Z",
     "start_time": "2023-11-15T13:22:17.645052234Z"
    }
   },
   "id": "9e1da48e72322cf1"
  },
  {
   "cell_type": "code",
   "execution_count": 10,
   "outputs": [],
   "source": [
    "train_indices = create_subset_indices(validation_dataset, 5000)"
   ],
   "metadata": {
    "collapsed": false,
    "ExecuteTime": {
     "end_time": "2023-11-15T13:22:19.880984954Z",
     "start_time": "2023-11-15T13:22:19.863367223Z"
    }
   },
   "id": "57fcc434d5a28a3"
  },
  {
   "cell_type": "code",
   "execution_count": 11,
   "outputs": [],
   "source": [
    "train_subset = Subset(validation_dataset, train_indices)"
   ],
   "metadata": {
    "collapsed": false,
    "ExecuteTime": {
     "end_time": "2023-11-15T13:22:20.544907133Z",
     "start_time": "2023-11-15T13:22:20.537142204Z"
    }
   },
   "id": "655bc6da33e8da96"
  },
  {
   "cell_type": "code",
   "execution_count": 13,
   "outputs": [
    {
     "name": "stderr",
     "output_type": "stream",
     "text": [
      "/home/michpir/Documents/PROJECTS/NeuralSpecLibrary/venv/lib/python3.10/site-packages/torch_geometric/deprecation.py:22: UserWarning: 'data.DataLoader' is deprecated, use 'loader.DataLoader' instead\n",
      "  warnings.warn(out)\n"
     ]
    }
   ],
   "source": [
    "train_loader = DataLoader(train_subset, batch_size=config_model.neims_model[\"training\"][\"batch_size\"], shuffle=True)"
   ],
   "metadata": {
    "collapsed": false,
    "ExecuteTime": {
     "end_time": "2023-11-15T13:23:08.264981308Z",
     "start_time": "2023-11-15T13:23:08.255325085Z"
    }
   },
   "id": "aee4ff173857ae61"
  },
  {
   "cell_type": "code",
   "execution_count": 16,
   "outputs": [
    {
     "name": "stdout",
     "output_type": "stream",
     "text": [
      "DataBatch(x=[262144], y=[64000], molecular_weight=[64], batch=[262144], ptr=[65])\n",
      "DataBatch(x=[262144], y=[64000], molecular_weight=[64], batch=[262144], ptr=[65])\n",
      "DataBatch(x=[262144], y=[64000], molecular_weight=[64], batch=[262144], ptr=[65])\n",
      "DataBatch(x=[262144], y=[64000], molecular_weight=[64], batch=[262144], ptr=[65])\n",
      "DataBatch(x=[262144], y=[64000], molecular_weight=[64], batch=[262144], ptr=[65])\n",
      "DataBatch(x=[262144], y=[64000], molecular_weight=[64], batch=[262144], ptr=[65])\n",
      "DataBatch(x=[262144], y=[64000], molecular_weight=[64], batch=[262144], ptr=[65])\n",
      "DataBatch(x=[262144], y=[64000], molecular_weight=[64], batch=[262144], ptr=[65])\n",
      "DataBatch(x=[262144], y=[64000], molecular_weight=[64], batch=[262144], ptr=[65])\n",
      "DataBatch(x=[262144], y=[64000], molecular_weight=[64], batch=[262144], ptr=[65])\n",
      "DataBatch(x=[262144], y=[64000], molecular_weight=[64], batch=[262144], ptr=[65])\n",
      "DataBatch(x=[262144], y=[64000], molecular_weight=[64], batch=[262144], ptr=[65])\n",
      "DataBatch(x=[262144], y=[64000], molecular_weight=[64], batch=[262144], ptr=[65])\n",
      "DataBatch(x=[262144], y=[64000], molecular_weight=[64], batch=[262144], ptr=[65])\n",
      "DataBatch(x=[262144], y=[64000], molecular_weight=[64], batch=[262144], ptr=[65])\n",
      "DataBatch(x=[262144], y=[64000], molecular_weight=[64], batch=[262144], ptr=[65])\n",
      "DataBatch(x=[262144], y=[64000], molecular_weight=[64], batch=[262144], ptr=[65])\n",
      "DataBatch(x=[262144], y=[64000], molecular_weight=[64], batch=[262144], ptr=[65])\n",
      "DataBatch(x=[262144], y=[64000], molecular_weight=[64], batch=[262144], ptr=[65])\n",
      "DataBatch(x=[262144], y=[64000], molecular_weight=[64], batch=[262144], ptr=[65])\n",
      "DataBatch(x=[262144], y=[64000], molecular_weight=[64], batch=[262144], ptr=[65])\n",
      "DataBatch(x=[262144], y=[64000], molecular_weight=[64], batch=[262144], ptr=[65])\n",
      "DataBatch(x=[262144], y=[64000], molecular_weight=[64], batch=[262144], ptr=[65])\n",
      "DataBatch(x=[262144], y=[64000], molecular_weight=[64], batch=[262144], ptr=[65])\n",
      "DataBatch(x=[262144], y=[64000], molecular_weight=[64], batch=[262144], ptr=[65])\n",
      "DataBatch(x=[262144], y=[64000], molecular_weight=[64], batch=[262144], ptr=[65])\n",
      "DataBatch(x=[262144], y=[64000], molecular_weight=[64], batch=[262144], ptr=[65])\n",
      "DataBatch(x=[262144], y=[64000], molecular_weight=[64], batch=[262144], ptr=[65])\n",
      "DataBatch(x=[262144], y=[64000], molecular_weight=[64], batch=[262144], ptr=[65])\n",
      "DataBatch(x=[262144], y=[64000], molecular_weight=[64], batch=[262144], ptr=[65])\n",
      "DataBatch(x=[262144], y=[64000], molecular_weight=[64], batch=[262144], ptr=[65])\n",
      "DataBatch(x=[262144], y=[64000], molecular_weight=[64], batch=[262144], ptr=[65])\n",
      "DataBatch(x=[262144], y=[64000], molecular_weight=[64], batch=[262144], ptr=[65])\n",
      "DataBatch(x=[262144], y=[64000], molecular_weight=[64], batch=[262144], ptr=[65])\n",
      "DataBatch(x=[262144], y=[64000], molecular_weight=[64], batch=[262144], ptr=[65])\n",
      "DataBatch(x=[262144], y=[64000], molecular_weight=[64], batch=[262144], ptr=[65])\n",
      "DataBatch(x=[262144], y=[64000], molecular_weight=[64], batch=[262144], ptr=[65])\n",
      "DataBatch(x=[262144], y=[64000], molecular_weight=[64], batch=[262144], ptr=[65])\n",
      "DataBatch(x=[262144], y=[64000], molecular_weight=[64], batch=[262144], ptr=[65])\n",
      "DataBatch(x=[262144], y=[64000], molecular_weight=[64], batch=[262144], ptr=[65])\n",
      "DataBatch(x=[262144], y=[64000], molecular_weight=[64], batch=[262144], ptr=[65])\n",
      "DataBatch(x=[262144], y=[64000], molecular_weight=[64], batch=[262144], ptr=[65])\n",
      "DataBatch(x=[262144], y=[64000], molecular_weight=[64], batch=[262144], ptr=[65])\n",
      "DataBatch(x=[262144], y=[64000], molecular_weight=[64], batch=[262144], ptr=[65])\n",
      "DataBatch(x=[262144], y=[64000], molecular_weight=[64], batch=[262144], ptr=[65])\n",
      "DataBatch(x=[262144], y=[64000], molecular_weight=[64], batch=[262144], ptr=[65])\n",
      "DataBatch(x=[262144], y=[64000], molecular_weight=[64], batch=[262144], ptr=[65])\n",
      "DataBatch(x=[262144], y=[64000], molecular_weight=[64], batch=[262144], ptr=[65])\n",
      "DataBatch(x=[262144], y=[64000], molecular_weight=[64], batch=[262144], ptr=[65])\n",
      "DataBatch(x=[262144], y=[64000], molecular_weight=[64], batch=[262144], ptr=[65])\n",
      "DataBatch(x=[262144], y=[64000], molecular_weight=[64], batch=[262144], ptr=[65])\n",
      "DataBatch(x=[262144], y=[64000], molecular_weight=[64], batch=[262144], ptr=[65])\n",
      "DataBatch(x=[262144], y=[64000], molecular_weight=[64], batch=[262144], ptr=[65])\n",
      "DataBatch(x=[262144], y=[64000], molecular_weight=[64], batch=[262144], ptr=[65])\n",
      "DataBatch(x=[262144], y=[64000], molecular_weight=[64], batch=[262144], ptr=[65])\n",
      "DataBatch(x=[262144], y=[64000], molecular_weight=[64], batch=[262144], ptr=[65])\n",
      "DataBatch(x=[262144], y=[64000], molecular_weight=[64], batch=[262144], ptr=[65])\n",
      "DataBatch(x=[262144], y=[64000], molecular_weight=[64], batch=[262144], ptr=[65])\n",
      "DataBatch(x=[262144], y=[64000], molecular_weight=[64], batch=[262144], ptr=[65])\n",
      "DataBatch(x=[262144], y=[64000], molecular_weight=[64], batch=[262144], ptr=[65])\n",
      "DataBatch(x=[262144], y=[64000], molecular_weight=[64], batch=[262144], ptr=[65])\n",
      "DataBatch(x=[262144], y=[64000], molecular_weight=[64], batch=[262144], ptr=[65])\n",
      "DataBatch(x=[262144], y=[64000], molecular_weight=[64], batch=[262144], ptr=[65])\n",
      "DataBatch(x=[262144], y=[64000], molecular_weight=[64], batch=[262144], ptr=[65])\n",
      "DataBatch(x=[262144], y=[64000], molecular_weight=[64], batch=[262144], ptr=[65])\n",
      "DataBatch(x=[262144], y=[64000], molecular_weight=[64], batch=[262144], ptr=[65])\n",
      "DataBatch(x=[262144], y=[64000], molecular_weight=[64], batch=[262144], ptr=[65])\n",
      "DataBatch(x=[262144], y=[64000], molecular_weight=[64], batch=[262144], ptr=[65])\n",
      "DataBatch(x=[262144], y=[64000], molecular_weight=[64], batch=[262144], ptr=[65])\n",
      "DataBatch(x=[262144], y=[64000], molecular_weight=[64], batch=[262144], ptr=[65])\n",
      "DataBatch(x=[262144], y=[64000], molecular_weight=[64], batch=[262144], ptr=[65])\n",
      "DataBatch(x=[262144], y=[64000], molecular_weight=[64], batch=[262144], ptr=[65])\n",
      "DataBatch(x=[262144], y=[64000], molecular_weight=[64], batch=[262144], ptr=[65])\n",
      "DataBatch(x=[262144], y=[64000], molecular_weight=[64], batch=[262144], ptr=[65])\n",
      "DataBatch(x=[262144], y=[64000], molecular_weight=[64], batch=[262144], ptr=[65])\n",
      "DataBatch(x=[262144], y=[64000], molecular_weight=[64], batch=[262144], ptr=[65])\n",
      "DataBatch(x=[262144], y=[64000], molecular_weight=[64], batch=[262144], ptr=[65])\n",
      "DataBatch(x=[262144], y=[64000], molecular_weight=[64], batch=[262144], ptr=[65])\n",
      "DataBatch(x=[32768], y=[8000], molecular_weight=[8], batch=[32768], ptr=[9])\n"
     ]
    }
   ],
   "source": [
    "for record in train_loader:\n",
    "    print(record)"
   ],
   "metadata": {
    "collapsed": false,
    "ExecuteTime": {
     "end_time": "2023-11-15T13:23:47.321990572Z",
     "start_time": "2023-11-15T13:23:46.974133447Z"
    }
   },
   "id": "d3bfca4b013c54ad"
  },
  {
   "cell_type": "code",
   "execution_count": 26,
   "outputs": [
    {
     "name": "stdout",
     "output_type": "stream",
     "text": [
      "3\n"
     ]
    }
   ],
   "source": [
    "# nist_dataset_test = []\n",
    "# nist_dataset_train = []\n",
    "# i=0\n",
    "# for obj in nist_dataset_org_test:\n",
    "#     if i==1000:\n",
    "#         break\n",
    "#     nist_dataset_test.append(obj)\n",
    "#     i += 1\n",
    "# print(i)\n",
    "# nist_dataset_train = []\n",
    "# i = 0\n",
    "# for obj in nist_dataset_org_train:\n",
    "#     if i==1000:\n",
    "#         break\n",
    "#     nist_dataset_train.append(obj)\n",
    "#     i += 1"
   ],
   "metadata": {
    "collapsed": false,
    "ExecuteTime": {
     "end_time": "2023-11-14T12:08:41.343676851Z",
     "start_time": "2023-11-14T12:08:41.327095630Z"
    }
   },
   "id": "5727484cce9da88"
  },
  {
   "cell_type": "code",
   "execution_count": null,
   "outputs": [],
   "source": [
    "# print(nist_dataset_org_test)"
   ],
   "metadata": {
    "collapsed": false,
    "is_executing": true
   },
   "id": "bab238e51d432f33"
  },
  {
   "cell_type": "code",
   "execution_count": 27,
   "outputs": [
    {
     "name": "stdout",
     "output_type": "stream",
     "text": [
      "['rdmol', 'spect', 'smiles']\n"
     ]
    }
   ],
   "source": [
    "# print(nist_dataset_train)"
   ],
   "metadata": {
    "collapsed": false,
    "ExecuteTime": {
     "end_time": "2023-11-14T12:15:40.912232275Z",
     "start_time": "2023-11-14T12:15:40.867878302Z"
    }
   },
   "id": "baaaeec1a86f9282"
  },
  {
   "cell_type": "code",
   "execution_count": 6,
   "outputs": [
    {
     "data": {
      "text/plain": "3"
     },
     "execution_count": 6,
     "metadata": {},
     "output_type": "execute_result"
    }
   ],
   "source": [
    "# len(nist_dataset_train)"
   ],
   "metadata": {
    "collapsed": false,
    "ExecuteTime": {
     "end_time": "2023-11-14T11:59:29.261072695Z",
     "start_time": "2023-11-14T11:59:29.172483936Z"
    }
   },
   "id": "c87fc472cb8a03e0"
  },
  {
   "cell_type": "code",
   "execution_count": null,
   "outputs": [],
   "source": [
    "# def spectrum_preparation_double(spectrum, intensity_power, output_size, operation):\n",
    "#     # get spectrum object and return array of specific size for prediction\n",
    "#     # spectrum is in shape tuple[tuple[2]]\n",
    "#     spectrum_output = torch.zeros(1, output_size)\n",
    "# \n",
    "# \n",
    "#     for position, intensity in spectrum:\n",
    "#         if position >= output_size:\n",
    "#             spectrum_output[0][output_size - 1] = intensity\n",
    "#             continue\n",
    "#         spectrum_output[0][int(position)] = intensity\n",
    "# \n",
    "#     if operation == \"pow\":\n",
    "#       spectrum_output = torch.pow(spectrum_output, intensity_power)\n",
    "#     elif operation == \"log\":\n",
    "#       spectrum_output = spectrum_output + 1\n",
    "#       spectrum_output = torch.log(spectrum_output)\n",
    "#     else:\n",
    "#       spectrum_output = spectrum_output\n",
    "# \n",
    "# \n",
    "# \n",
    "#     return torch.squeeze(spectrum_output).type(torch.float64)"
   ],
   "metadata": {
    "collapsed": false
   },
   "id": "f32082efcb6079ed"
  },
  {
   "cell_type": "code",
   "execution_count": null,
   "outputs": [],
   "source": [],
   "metadata": {
    "collapsed": false
   },
   "id": "442bcd3d174e72f6"
  },
  {
   "cell_type": "code",
   "execution_count": 2,
   "outputs": [],
   "source": [
    "# def create_ECF_dataset_parquet(nist_data, model_config):\n",
    "#     \"\"\"\n",
    "#     Inputs:\n",
    "# \n",
    "#     Pandas dataframe with columns:\n",
    "#     rdkit mol\n",
    "#     spectrum: tuple[tuple[2]]\n",
    "#     smiles\n",
    "# \n",
    "#     Outputs:\n",
    "# \n",
    "#     list of tuples\n",
    "# \n",
    "#     \"\"\"\n",
    "# \n",
    "#     data_list = []\n",
    "# \n",
    "#     for _, nist_obj in nist_data.iterrows():\n",
    "# \n",
    "#         # convert SMILES to RDKit mol object\n",
    "#         mol = Chem.MolFromSmiles(nist_obj['smiles'])\n",
    "# \n",
    "#         if mol is None:\n",
    "#             continue\n",
    "# \n",
    "#         input_ecp = ECFP_from_smiles(nist_obj['smiles'], R=model_config[\"preprocessing\"][\"radius\"],\n",
    "#                                      L=model_config[\"preprocessing\"][\"fingerprint_length\"], \n",
    "#                                      use_features=model_config[\"preprocessing\"][\"use_features\"],\n",
    "#                                      use_chirality=model_config[\"preprocessing\"][\"use_chirality\"])\n",
    "# \n",
    "#         # construct label tensor\n",
    "#         y_tensor = spectrum_preparation_double(nist_obj[\"spect\"], model_config[\"preprocessing\"][\"intensity_power\"],\n",
    "#                                                model_config[\"preprocessing\"][\"output_size\"], \n",
    "#                                                model_config[\"preprocessing\"][\"operation\"])\n",
    "# \n",
    "#         # Molecular weight\n",
    "#         MW = Descriptors.ExactMolWt(mol)\n",
    "#         MW = torch.tensor(int(round(float(MW))))\n",
    "# \n",
    "#         # construct Pytorch data object and append to data list\n",
    "#         data_list.append((input_ecp, MW, y_tensor))\n",
    "# \n",
    "# \n",
    "#     return data_list"
   ],
   "metadata": {
    "collapsed": false,
    "ExecuteTime": {
     "end_time": "2023-11-15T07:38:40.026719769Z",
     "start_time": "2023-11-15T07:38:39.978904343Z"
    }
   },
   "id": "165d28b4fbd603f2"
  }
 ],
 "metadata": {
  "kernelspec": {
   "name": "myenvkernel",
   "language": "python",
   "display_name": "Python (myenv)"
  },
  "language_info": {
   "codemirror_mode": {
    "name": "ipython",
    "version": 2
   },
   "file_extension": ".py",
   "mimetype": "text/x-python",
   "name": "python",
   "nbconvert_exporter": "python",
   "pygments_lexer": "ipython2",
   "version": "2.7.6"
  }
 },
 "nbformat": 4,
 "nbformat_minor": 5
}

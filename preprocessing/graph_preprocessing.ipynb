{
 "cells": [
  {
   "cell_type": "code",
   "execution_count": 1,
   "id": "initial_id",
   "metadata": {
    "collapsed": true,
    "ExecuteTime": {
     "end_time": "2023-11-16T10:33:52.443957861Z",
     "start_time": "2023-11-16T10:33:46.733683368Z"
    }
   },
   "outputs": [],
   "source": [
    "import pandas as pd\n",
    "import graph_preprocessing as gp\n",
    "import pickle\n",
    "from sklearn.model_selection import train_test_split"
   ]
  },
  {
   "cell_type": "code",
   "execution_count": 2,
   "outputs": [],
   "source": [
    "nist_dataset_org_test = pd.read_parquet('/home/michpir/Documents/PROJECTS/dataset/smalltest.pq', engine='auto', columns=['rdmol', 'spect', 'smiles'])\n",
    "nist_dataset_org_train = pd.read_parquet('/home/michpir/Documents/PROJECTS/dataset/smalltrain.pq', engine='auto', columns=['rdmol', 'spect', 'smiles'])"
   ],
   "metadata": {
    "collapsed": false,
    "ExecuteTime": {
     "end_time": "2023-11-16T10:33:56.548124817Z",
     "start_time": "2023-11-16T10:33:52.446818678Z"
    }
   },
   "id": "744e3a76afc49ab6"
  },
  {
   "cell_type": "code",
   "execution_count": 3,
   "outputs": [],
   "source": [
    "nist_dataset_org_train, nist_dataset_org_validation = train_test_split(nist_dataset_org_train, test_size=5000, random_state=42)"
   ],
   "metadata": {
    "collapsed": false,
    "ExecuteTime": {
     "end_time": "2023-11-16T10:33:56.585143344Z",
     "start_time": "2023-11-16T10:33:56.556646182Z"
    }
   },
   "id": "2ced6d07d7bd053a"
  },
  {
   "cell_type": "code",
   "execution_count": 4,
   "outputs": [],
   "source": [
    "# depends on the model you are using \n",
    "OUTPUT_SIZE = 1000\n",
    "INTENSITY_POWER = 0.5\n",
    "SPECTRUM_SCALE = \"pow\""
   ],
   "metadata": {
    "collapsed": false,
    "ExecuteTime": {
     "end_time": "2023-11-16T10:33:56.587315584Z",
     "start_time": "2023-11-16T10:33:56.583611487Z"
    }
   },
   "id": "d4db38df6c4c5fb3"
  },
  {
   "cell_type": "code",
   "execution_count": 5,
   "outputs": [
    {
     "name": "stderr",
     "output_type": "stream",
     "text": [
      "/home/michpir/Documents/PROJECTS/NeuralSpecLibrary/preprocessing/preprocessing_utils.py:40: UserWarning: Number of group is greater than one hot dimension representation\n",
      "  warnings.warn(\"Number of group is greater than one hot dimension representation\")\n",
      "[11:34:06] WARNING: not removing hydrogen atom without neighbors\n",
      "[11:34:23] WARNING: not removing hydrogen atom without neighbors\n",
      "[11:36:15] WARNING: not removing hydrogen atom without neighbors\n"
     ]
    }
   ],
   "source": [
    "data_list_test = gp.create_graph_data(nist_dataset_org_test, INTENSITY_POWER, OUTPUT_SIZE, SPECTRUM_SCALE)"
   ],
   "metadata": {
    "collapsed": false,
    "ExecuteTime": {
     "end_time": "2023-11-16T10:37:07.308554544Z",
     "start_time": "2023-11-16T10:33:56.968421487Z"
    }
   },
   "id": "9130de56f7ef3b7c"
  },
  {
   "cell_type": "code",
   "execution_count": 6,
   "outputs": [],
   "source": [
    "data_list_validation = gp.create_graph_data(nist_dataset_org_validation, INTENSITY_POWER, OUTPUT_SIZE, SPECTRUM_SCALE)"
   ],
   "metadata": {
    "collapsed": false,
    "ExecuteTime": {
     "end_time": "2023-11-16T10:37:38.907078519Z",
     "start_time": "2023-11-16T10:37:07.308299699Z"
    }
   },
   "id": "a4e8482ee821ea72"
  },
  {
   "cell_type": "code",
   "execution_count": 7,
   "outputs": [
    {
     "name": "stderr",
     "output_type": "stream",
     "text": [
      "[11:38:53] WARNING: not removing hydrogen atom without neighbors\n",
      "[11:39:16] WARNING: not removing hydrogen atom without neighbors\n",
      "[11:39:29] WARNING: not removing hydrogen atom without neighbors\n",
      "[11:39:44] WARNING: not removing hydrogen atom without neighbors\n",
      "[11:40:14] WARNING: not removing hydrogen atom without neighbors\n",
      "[11:42:30] WARNING: not removing hydrogen atom without neighbors\n",
      "[11:43:48] WARNING: not removing hydrogen atom without neighbors\n",
      "[11:44:19] WARNING: not removing hydrogen atom without neighbors\n",
      "[11:45:10] WARNING: not removing hydrogen atom without neighbors\n",
      "[11:46:09] WARNING: not removing hydrogen atom without neighbors\n",
      "[11:47:22] WARNING: not removing hydrogen atom without neighbors\n",
      "[11:47:53] WARNING: not removing hydrogen atom without neighbors\n",
      "[11:48:09] WARNING: not removing hydrogen atom without neighbors\n",
      "[11:48:37] WARNING: not removing hydrogen atom without neighbors\n",
      "[11:49:25] WARNING: not removing hydrogen atom without neighbors\n",
      "[11:49:26] WARNING: not removing hydrogen atom without neighbors\n"
     ]
    }
   ],
   "source": [
    "data_list_train = gp.create_graph_data(nist_dataset_org_train, INTENSITY_POWER, OUTPUT_SIZE, SPECTRUM_SCALE)"
   ],
   "metadata": {
    "collapsed": false,
    "ExecuteTime": {
     "end_time": "2023-11-16T10:49:27.875248618Z",
     "start_time": "2023-11-16T10:37:38.948170848Z"
    }
   },
   "id": "2632beba1f66b70c"
  },
  {
   "cell_type": "code",
   "execution_count": 8,
   "outputs": [],
   "source": [
    "PREPROCESSED_FILE = \"/home/michpir/Documents/PROJECTS/test_graph_pow.output\"\n",
    "with open(PREPROCESSED_FILE, 'wb') as fid:\n",
    "  pickle.dump(data_list_test, fid)\n",
    "  fid.close() "
   ],
   "metadata": {
    "collapsed": false,
    "ExecuteTime": {
     "end_time": "2023-11-16T10:49:35.074165564Z",
     "start_time": "2023-11-16T10:49:27.881826002Z"
    }
   },
   "id": "10e623206c351608"
  },
  {
   "cell_type": "code",
   "execution_count": 9,
   "outputs": [],
   "source": [
    "PREPROCESSED_FILE = \"/home/michpir/Documents/PROJECTS/validation_graph_pow.output\"\n",
    "with open(PREPROCESSED_FILE, 'wb') as fid:\n",
    "  pickle.dump(data_list_validation, fid)\n",
    "  fid.close() "
   ],
   "metadata": {
    "collapsed": false,
    "ExecuteTime": {
     "end_time": "2023-11-16T10:49:36.285932422Z",
     "start_time": "2023-11-16T10:49:35.076432934Z"
    }
   },
   "id": "84918f68b4f80baa"
  },
  {
   "cell_type": "code",
   "execution_count": 10,
   "outputs": [],
   "source": [
    "PREPROCESSED_FILE = \"/home/michpir/Documents/PROJECTS/train_graph_pow.output\"\n",
    "with open(PREPROCESSED_FILE, 'wb') as fid:\n",
    "  pickle.dump(data_list_train, fid)\n",
    "  fid.close() "
   ],
   "metadata": {
    "collapsed": false,
    "ExecuteTime": {
     "end_time": "2023-11-16T10:50:04.087439466Z",
     "start_time": "2023-11-16T10:49:36.290010978Z"
    }
   },
   "id": "f98424e051351411"
  },
  {
   "cell_type": "code",
   "execution_count": null,
   "outputs": [],
   "source": [],
   "metadata": {
    "collapsed": false
   },
   "id": "3390f80eb1671369"
  }
 ],
 "metadata": {
  "kernelspec": {
   "display_name": "Python 3",
   "language": "python",
   "name": "python3"
  },
  "language_info": {
   "codemirror_mode": {
    "name": "ipython",
    "version": 2
   },
   "file_extension": ".py",
   "mimetype": "text/x-python",
   "name": "python",
   "nbconvert_exporter": "python",
   "pygments_lexer": "ipython2",
   "version": "2.7.6"
  }
 },
 "nbformat": 4,
 "nbformat_minor": 5
}
